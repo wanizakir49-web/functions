{
  "cells": [
    {
      "cell_type": "markdown",
      "id": "b3f891f9",
      "metadata": {
        "id": "b3f891f9"
      },
      "source": [
        "### 1. Difference between a function and a method in Python\n",
        "- **Function**: A block of code defined using `def`.\n",
        "- **Method**: A function associated with an object.\n",
        "\n",
        "Example:\n",
        "```python\n",
        "def greet(name):\n",
        "    return f\"Hello {name}\"\n",
        "\n",
        "print(greet(\"Khadija\"))\n",
        "\n",
        "text = \"python\"\n",
        "print(text.upper())  # method\n",
        "```"
      ]
    },
    {
      "cell_type": "markdown",
      "id": "0105a5c8",
      "metadata": {
        "id": "0105a5c8"
      },
      "source": [
        "### 2. Function arguments and parameters\n",
        "- **Parameters**: Variables defined inside function definition.\n",
        "- **Arguments**: Values passed when calling.\n",
        "\n",
        "Example:\n",
        "```python\n",
        "def add(a, b):\n",
        "    return a + b\n",
        "\n",
        "print(add(5, 3))\n",
        "```"
      ]
    },
    {
      "cell_type": "markdown",
      "id": "ab024a6b",
      "metadata": {
        "id": "ab024a6b"
      },
      "source": [
        "### 3. Ways to define and call functions\n",
        "Examples:\n",
        "```python\n",
        "# Normal function\n",
        "def square(x):\n",
        "    return x * x\n",
        "\n",
        "print(square(4))\n",
        "\n",
        "# Lambda\n",
        "times2 = lambda x: x*2\n",
        "print(times2(5))\n",
        "\n",
        "# Keyword arguments\n",
        "def intro(name, age=20):\n",
        "    print(f\"{name} is {age} years old\")\n",
        "\n",
        "intro(age=22, name=\"Ali\")\n",
        "```"
      ]
    },
    {
      "cell_type": "markdown",
      "id": "273b1efa",
      "metadata": {
        "id": "273b1efa"
      },
      "source": [
        "### 4. Purpose of return\n",
        "It sends result back to caller.\n",
        "\n",
        "Example:\n",
        "```python\n",
        "def multiply(a, b):\n",
        "    return a * b\n",
        "\n",
        "print(multiply(4, 5))\n",
        "```"
      ]
    },
    {
      "cell_type": "markdown",
      "id": "a3ad2d98",
      "metadata": {
        "id": "a3ad2d98"
      },
      "source": [
        "### 5. Iterators vs Iterables\n",
        "- **Iterable**: Can loop over (`list`, `tuple`, `str`).\n",
        "- **Iterator**: Produces values using `next()`.\n",
        "\n",
        "Example:\n",
        "```python\n",
        "nums = [1, 2, 3]\n",
        "it = iter(nums)\n",
        "print(next(it))\n",
        "print(next(it))\n",
        "```"
      ]
    },
    {
      "cell_type": "markdown",
      "id": "8d51ad8b",
      "metadata": {
        "id": "8d51ad8b"
      },
      "source": [
        "### 6. Generators\n",
        "Defined with `yield`, return one value at a time.\n",
        "\n",
        "Example:\n",
        "```python\n",
        "def countdown(n):\n",
        "    while n>0:\n",
        "        yield n\n",
        "        n -= 1\n",
        "\n",
        "for i in countdown(3):\n",
        "    print(i)\n",
        "```"
      ]
    },
    {
      "cell_type": "markdown",
      "id": "c44e77b8",
      "metadata": {
        "id": "c44e77b8"
      },
      "source": [
        "### 7. Advantages of generators\n",
        "- Memory efficient\n",
        "- Lazy evaluation\n",
        "\n",
        "Example: Reading big files line by line."
      ]
    },
    {
      "cell_type": "markdown",
      "id": "827a0539",
      "metadata": {
        "id": "827a0539"
      },
      "source": [
        "### 8. Lambda function\n",
        "Anonymous small function.\n",
        "\n",
        "Example:\n",
        "```python\n",
        "add = lambda x,y: x+y\n",
        "print(add(3,5))\n",
        "```"
      ]
    },
    {
      "cell_type": "markdown",
      "id": "5cb9fecb",
      "metadata": {
        "id": "5cb9fecb"
      },
      "source": [
        "### 9. Purpose of map()\n",
        "Applies function to iterable.\n",
        "\n",
        "Example:\n",
        "```python\n",
        "nums = [1,2,3,4]\n",
        "print(list(map(lambda x: x**2, nums)))\n",
        "```"
      ]
    },
    {
      "cell_type": "markdown",
      "id": "743bb9f1",
      "metadata": {
        "id": "743bb9f1"
      },
      "source": [
        "### 10. Difference between map(), reduce(), filter()\n",
        "- **map**: Applies function to all elements\n",
        "- **filter**: Keeps only elements meeting condition\n",
        "- **reduce**: Applies function cumulatively\n",
        "\n",
        "Example:\n",
        "```python\n",
        "from functools import reduce\n",
        "nums = [1,2,3,4,5]\n",
        "print(list(map(lambda x:x*2, nums)))\n",
        "print(list(filter(lambda x:x%2==0, nums)))\n",
        "print(reduce(lambda a,b:a+b, nums))\n",
        "```"
      ]
    },
    {
      "cell_type": "markdown",
      "id": "7225519b",
      "metadata": {
        "id": "7225519b"
      },
      "source": [
        "### 11. Reduce() internal mechanism\n",
        "On paper, stepwise:\n",
        "```\n",
        "(47+11)=58\n",
        "(58+42)=100\n",
        "(100+13)=113\n",
        "Final Answer=113\n",
        "```\n",
        "\n"
      ]
    },
    {
      "cell_type": "markdown",
      "id": "f1f9b0a4",
      "metadata": {
        "id": "f1f9b0a4"
      },
      "source": [
        "### 1. Sum of even numbers"
      ]
    },
    {
      "cell_type": "code",
      "execution_count": null,
      "id": "e1c22e64",
      "metadata": {
        "id": "e1c22e64"
      },
      "outputs": [],
      "source": [
        "def sum_even(numbers):\n",
        "    return sum(x for x in numbers if x%2==0)\n",
        "\n",
        "print(sum_even([1,2,3,4,5,6]))"
      ]
    },
    {
      "cell_type": "markdown",
      "id": "4434a8e4",
      "metadata": {
        "id": "4434a8e4"
      },
      "source": [
        "### 2. Reverse string"
      ]
    },
    {
      "cell_type": "code",
      "execution_count": null,
      "id": "68b7026b",
      "metadata": {
        "id": "68b7026b"
      },
      "outputs": [],
      "source": [
        "def reverse_string(s):\n",
        "    return s[::-1]\n",
        "\n",
        "print(reverse_string(\"Python\"))"
      ]
    },
    {
      "cell_type": "markdown",
      "id": "bd852b39",
      "metadata": {
        "id": "bd852b39"
      },
      "source": [
        "### 3. Squares of list"
      ]
    },
    {
      "cell_type": "code",
      "execution_count": null,
      "id": "d453b5a9",
      "metadata": {
        "id": "d453b5a9"
      },
      "outputs": [],
      "source": [
        "def squares(lst):\n",
        "    return [x**2 for x in lst]\n",
        "\n",
        "print(squares([1,2,3,4]))"
      ]
    },
    {
      "cell_type": "markdown",
      "id": "9cf18160",
      "metadata": {
        "id": "9cf18160"
      },
      "source": [
        "### 4. Prime check 1-200"
      ]
    },
    {
      "cell_type": "code",
      "execution_count": null,
      "id": "0ffcc63e",
      "metadata": {
        "id": "0ffcc63e"
      },
      "outputs": [],
      "source": [
        "def is_prime(n):\n",
        "    if n<2:\n",
        "        return False\n",
        "    for i in range(2,int(n**0.5)+1):\n",
        "        if n%i==0:\n",
        "            return False\n",
        "    return True\n",
        "\n",
        "primes = [n for n in range(1,201) if is_prime(n)]\n",
        "print(primes)"
      ]
    },
    {
      "cell_type": "markdown",
      "id": "07d0b32d",
      "metadata": {
        "id": "07d0b32d"
      },
      "source": [
        "### 5. Fibonacci iterator"
      ]
    },
    {
      "cell_type": "code",
      "execution_count": null,
      "id": "0aeec401",
      "metadata": {
        "id": "0aeec401"
      },
      "outputs": [],
      "source": [
        "class Fibonacci:\n",
        "    def __init__(self,n):\n",
        "        self.n=n\n",
        "        self.a=0\n",
        "        self.b=1\n",
        "        self.count=0\n",
        "    def __iter__(self):\n",
        "        return self\n",
        "    def __next__(self):\n",
        "        if self.count<self.n:\n",
        "            val=self.a\n",
        "            self.a,self.b=self.b,self.a+self.b\n",
        "            self.count+=1\n",
        "            return val\n",
        "        else:\n",
        "            raise StopIteration\n",
        "\n",
        "for i in Fibonacci(10):\n",
        "    print(i,end=\" \")"
      ]
    },
    {
      "cell_type": "markdown",
      "id": "ae0bba71",
      "metadata": {
        "id": "ae0bba71"
      },
      "source": [
        "### 6. Generator powers of 2"
      ]
    },
    {
      "cell_type": "code",
      "execution_count": null,
      "id": "e6495e15",
      "metadata": {
        "id": "e6495e15"
      },
      "outputs": [],
      "source": [
        "def powers_of_two(exp):\n",
        "    for i in range(exp+1):\n",
        "        yield 2**i\n",
        "\n",
        "for val in powers_of_two(5):\n",
        "    print(val)"
      ]
    },
    {
      "cell_type": "markdown",
      "id": "a1b46020",
      "metadata": {
        "id": "a1b46020"
      },
      "source": [
        "### 7. Generator read file"
      ]
    },
    {
      "cell_type": "code",
      "execution_count": null,
      "id": "71356f5b",
      "metadata": {
        "id": "71356f5b"
      },
      "outputs": [],
      "source": [
        "def read_file_lines(filename):\n",
        "    with open(filename) as f:\n",
        "        for line in f:\n",
        "            yield line.strip()\n",
        "\n",
        "# Example usage (file.txt must exist)\n",
        "# for l in read_file_lines('file.txt'):\n",
        "#     print(l)"
      ]
    },
    {
      "cell_type": "markdown",
      "id": "0b6481e3",
      "metadata": {
        "id": "0b6481e3"
      },
      "source": [
        "### 8. Lambda sort tuple by 2nd element"
      ]
    },
    {
      "cell_type": "code",
      "execution_count": null,
      "id": "d857c0aa",
      "metadata": {
        "id": "d857c0aa"
      },
      "outputs": [],
      "source": [
        "data = [(1,3),(2,1),(3,2)]\n",
        "sorted_data = sorted(data, key=lambda x:x[1])\n",
        "print(sorted_data)"
      ]
    },
    {
      "cell_type": "markdown",
      "id": "8de50ffb",
      "metadata": {
        "id": "8de50ffb"
      },
      "source": [
        "### 9. Celsius to Fahrenheit map"
      ]
    },
    {
      "cell_type": "code",
      "execution_count": null,
      "id": "2f48a51a",
      "metadata": {
        "id": "2f48a51a"
      },
      "outputs": [],
      "source": [
        "temps_c = [0,20,30,40]\n",
        "temps_f = list(map(lambda c:(c*9/5)+32, temps_c))\n",
        "print(temps_f)"
      ]
    },
    {
      "cell_type": "markdown",
      "id": "1bc2312c",
      "metadata": {
        "id": "1bc2312c"
      },
      "source": [
        "### 10. Filter vowels from string"
      ]
    },
    {
      "cell_type": "code",
      "execution_count": null,
      "id": "88a89b4c",
      "metadata": {
        "id": "88a89b4c"
      },
      "outputs": [],
      "source": [
        "s = \"beautiful day\"\n",
        "vowels = \"aeiou\"\n",
        "filtered = ''.join(filter(lambda ch: ch.lower() not in vowels, s))\n",
        "print(filtered)"
      ]
    },
    {
      "cell_type": "markdown",
      "id": "20819d63",
      "metadata": {
        "id": "20819d63"
      },
      "source": [
        "### 11. Bookshop accounting with map+lambda"
      ]
    },
    {
      "cell_type": "code",
      "execution_count": null,
      "id": "3b9e52e7",
      "metadata": {
        "id": "3b9e52e7"
      },
      "outputs": [],
      "source": [
        "orders = [\n",
        "    [34587,\"Learning Python\",4,40.95],\n",
        "    [98762,\"Programming in C\",5,50.00],\n",
        "    [77226,\"Data Science\",3,25.00],\n",
        "    [88112,\"AI Basics\",2,30.00]\n",
        "]\n",
        "\n",
        "result = list(map(lambda x:(x[0], x[2]*x[3] if x[2]*x[3]>=100 else x[2]*x[3]+10), orders))\n",
        "print(result)"
      ]
    }
  ],
  "metadata": {
    "language_info": {
      "name": "python"
    },
    "colab": {
      "provenance": []
    }
  },
  "nbformat": 4,
  "nbformat_minor": 5
}